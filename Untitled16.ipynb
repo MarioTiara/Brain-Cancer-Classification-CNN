{
  "nbformat": 4,
  "nbformat_minor": 0,
  "metadata": {
    "colab": {
      "name": "Untitled16.ipynb",
      "provenance": [],
      "authorship_tag": "ABX9TyPSYCLkDISBY5X4x9b3C/5m",
      "include_colab_link": true
    },
    "kernelspec": {
      "name": "python3",
      "display_name": "Python 3"
    },
    "accelerator": "GPU"
  },
  "cells": [
    {
      "cell_type": "markdown",
      "metadata": {
        "id": "view-in-github",
        "colab_type": "text"
      },
      "source": [
        "<a href=\"https://colab.research.google.com/github/MarioTiara/Data_Sample_Brain_Cancer/blob/master/Untitled16.ipynb\" target=\"_parent\"><img src=\"https://colab.research.google.com/assets/colab-badge.svg\" alt=\"Open In Colab\"/></a>"
      ]
    },
    {
      "cell_type": "code",
      "metadata": {
        "id": "mKJV-fff5A3f",
        "colab_type": "code",
        "outputId": "dc387893-7128-45cf-e887-23e3300706d1",
        "colab": {
          "base_uri": "https://localhost:8080/",
          "height": 136
        }
      },
      "source": [
        "!git clone https://github.com/MarioTiara/Data_Sample_Brain_Cancer.git"
      ],
      "execution_count": 39,
      "outputs": [
        {
          "output_type": "stream",
          "text": [
            "Cloning into 'Data_Sample_Brain_Cancer'...\n",
            "remote: Enumerating objects: 13, done.\u001b[K\n",
            "remote: Counting objects: 100% (13/13), done.\u001b[K\n",
            "remote: Compressing objects: 100% (13/13), done.\u001b[K\n",
            "remote: Total 472 (delta 5), reused 0 (delta 0), pack-reused 459\u001b[K\n",
            "Receiving objects: 100% (472/472), 13.19 MiB | 6.75 MiB/s, done.\n",
            "Resolving deltas: 100% (24/24), done.\n"
          ],
          "name": "stdout"
        }
      ]
    },
    {
      "cell_type": "code",
      "metadata": {
        "id": "D5_imnVP5LC3",
        "colab_type": "code",
        "colab": {}
      },
      "source": [
        "import os\n",
        "os.chdir('/content/Data_Sample_Brain_Cancer/Data_Sample_Brain_Cancer/')"
      ],
      "execution_count": 0,
      "outputs": []
    },
    {
      "cell_type": "code",
      "metadata": {
        "id": "Zk-isAKp4BeA",
        "colab_type": "code",
        "colab": {}
      },
      "source": [
        "import glob\n",
        "import numpy as np\n",
        "import pandas as pd\n",
        "import math\n",
        "import seaborn as sns\n",
        "import umap\n",
        "import sys\n",
        "import random\n",
        "import warnings\n",
        "import cv2\n",
        "import os\n",
        "import shutil\n",
        "import itertools\n",
        "import imutils\n",
        "from matplotlib import pyplot\n",
        "import matplotlib.pyplot as plt\n",
        "from matplotlib import pyplot\n",
        "from numpy import expand_dims\n",
        "from PIL import Image\n",
        "from scipy import misc\n",
        "from os import listdir\n",
        "from os.path import isfile,join\n",
        "from collections import Counter\n",
        "from random import shuffle\n",
        "from collections import Counter\n",
        "from itertools import chain\n",
        "from tqdm import tqdm"
      ],
      "execution_count": 0,
      "outputs": []
    },
    {
      "cell_type": "code",
      "metadata": {
        "id": "09wECzK04RYe",
        "colab_type": "code",
        "colab": {}
      },
      "source": [
        "from sklearn.preprocessing import LabelBinarizer\n",
        "from sklearn.model_selection import train_test_split\n",
        "from sklearn.metrics import accuracy_score,confusion_matrix\n",
        "from sklearn.decomposition import PCA\n",
        "from sklearn.manifold import TSNE"
      ],
      "execution_count": 0,
      "outputs": []
    },
    {
      "cell_type": "code",
      "metadata": {
        "id": "D44xrDvV4WCf",
        "colab_type": "code",
        "colab": {}
      },
      "source": [
        "from skimage.io import imread, imshow, imread_collection, concatenate_images\n",
        "from skimage.transform import resize\n",
        "from skimage.morphology import label"
      ],
      "execution_count": 0,
      "outputs": []
    },
    {
      "cell_type": "code",
      "metadata": {
        "id": "jdL63xYz4ZyE",
        "colab_type": "code",
        "colab": {}
      },
      "source": [
        "import tensorflow as tf\n",
        "import keras\n",
        "from keras import layers\n",
        "from keras import backend as K\n",
        "from keras.layers.core import Dropout, Lambda\n",
        "from keras.layers.convolutional import Conv2D, Conv2DTranspose\n",
        "from keras.layers import Conv2D, MaxPooling2D\n",
        "from keras.layers import Activation, Dropout, Flatten, Dense\n",
        "from keras.callbacks import EarlyStopping, ModelCheckpoint\n",
        "from keras.layers.merge import concatenate\n",
        "from keras.utils.np_utils import to_categorical\n",
        "from keras.layers import Input\n",
        "from keras.models import Model, Sequential,load_model\n",
        "from keras.optimizers import Adam, RMSprop\n",
        "from keras import optimizers\n",
        "from keras.preprocessing.image import ImageDataGenerator, load_img,img_to_array,array_to_img"
      ],
      "execution_count": 0,
      "outputs": []
    },
    {
      "cell_type": "code",
      "metadata": {
        "id": "cKVkc8vt4g_j",
        "colab_type": "code",
        "colab": {}
      },
      "source": [
        "from keras.applications.vgg16 import VGG16\n",
        "from keras.applications.vgg16 import VGG16, preprocess_input\n",
        "from keras.preprocessing.image import load_img\n",
        "from keras.preprocessing.image import img_to_array\n"
      ],
      "execution_count": 0,
      "outputs": []
    },
    {
      "cell_type": "code",
      "metadata": {
        "id": "luhVuyaF4khn",
        "colab_type": "code",
        "colab": {}
      },
      "source": [
        "RANDOM_SEED = 123"
      ],
      "execution_count": 0,
      "outputs": []
    },
    {
      "cell_type": "code",
      "metadata": {
        "id": "ToY49XRlbBkL",
        "colab_type": "code",
        "colab": {}
      },
      "source": [
        "def load_data(dir_path, img_size=(100,100)):\n",
        "  \n",
        "    #Load resized images as np.arrays to workspace\n",
        "    \n",
        "    X = []\n",
        "    y = []\n",
        "    i = 0\n",
        "    labels = dict()\n",
        "    for path in tqdm(sorted(os.listdir(dir_path))):\n",
        "        if not path.startswith('.'):\n",
        "            labels[i] = path\n",
        "            for file in os.listdir(dir_path + path):\n",
        "                if not file.startswith('.'):\n",
        "                    img = cv2.imread(dir_path + path + '/' + file)\n",
        "                    X.append(img)\n",
        "                    y.append(i)\n",
        "            i += 1\n",
        "    X = np.array(X)\n",
        "    y = np.array(y)\n",
        "    print(f'{len(X)} images loaded from {dir_path} directory.')\n",
        "    return X, y, labels"
      ],
      "execution_count": 0,
      "outputs": []
    },
    {
      "cell_type": "code",
      "metadata": {
        "id": "7Tio0ISNbKun",
        "colab_type": "code",
        "colab": {}
      },
      "source": [
        "TRAIN_DIR = '/content/Data_Sample_Brain_Cancer/Data_Sample_Brain_Cancer/TRAIN/'\n",
        "TEST_DIR = '/content/Data_Sample_Brain_Cancer/Data_Sample_Brain_Cancer/TEST/'\n",
        "VAL_DIR = '/content/Data_Sample_Brain_Cancer/Data_Sample_Brain_Cancer/VAL/'\n",
        "IMG_SIZE = (224,224)"
      ],
      "execution_count": 0,
      "outputs": []
    },
    {
      "cell_type": "code",
      "metadata": {
        "id": "SL7nFWPPdW0B",
        "colab_type": "code",
        "colab": {
          "base_uri": "https://localhost:8080/",
          "height": 333
        },
        "outputId": "456dcef7-c818-4ccd-cedc-ec80852bfe05"
      },
      "source": [
        "X_train, y_train, labels = load_data(TRAIN_DIR, IMG_SIZE)\n",
        "X_test, y_test, _ = load_data(TEST_DIR, IMG_SIZE)\n",
        "X_val, y_val, _ = load_data(VAL_DIR, IMG_SIZE)"
      ],
      "execution_count": 38,
      "outputs": [
        {
          "output_type": "stream",
          "text": [
            " 17%|█▋        | 1/6 [00:00<00:00,  6.08it/s]\n"
          ],
          "name": "stderr"
        },
        {
          "output_type": "error",
          "ename": "NotADirectoryError",
          "evalue": "ignored",
          "traceback": [
            "\u001b[0;31m---------------------------------------------------------------------------\u001b[0m",
            "\u001b[0;31mNotADirectoryError\u001b[0m                        Traceback (most recent call last)",
            "\u001b[0;32m<ipython-input-38-832198e9dc72>\u001b[0m in \u001b[0;36m<module>\u001b[0;34m()\u001b[0m\n\u001b[0;32m----> 1\u001b[0;31m \u001b[0mX_train\u001b[0m\u001b[0;34m,\u001b[0m \u001b[0my_train\u001b[0m\u001b[0;34m,\u001b[0m \u001b[0mlabels\u001b[0m \u001b[0;34m=\u001b[0m \u001b[0mload_data\u001b[0m\u001b[0;34m(\u001b[0m\u001b[0mTRAIN_DIR\u001b[0m\u001b[0;34m,\u001b[0m \u001b[0mIMG_SIZE\u001b[0m\u001b[0;34m)\u001b[0m\u001b[0;34m\u001b[0m\u001b[0;34m\u001b[0m\u001b[0m\n\u001b[0m\u001b[1;32m      2\u001b[0m \u001b[0mX_test\u001b[0m\u001b[0;34m,\u001b[0m \u001b[0my_test\u001b[0m\u001b[0;34m,\u001b[0m \u001b[0m_\u001b[0m \u001b[0;34m=\u001b[0m \u001b[0mload_data\u001b[0m\u001b[0;34m(\u001b[0m\u001b[0mTEST_DIR\u001b[0m\u001b[0;34m,\u001b[0m \u001b[0mIMG_SIZE\u001b[0m\u001b[0;34m)\u001b[0m\u001b[0;34m\u001b[0m\u001b[0;34m\u001b[0m\u001b[0m\n\u001b[1;32m      3\u001b[0m \u001b[0mX_val\u001b[0m\u001b[0;34m,\u001b[0m \u001b[0my_val\u001b[0m\u001b[0;34m,\u001b[0m \u001b[0m_\u001b[0m \u001b[0;34m=\u001b[0m \u001b[0mload_data\u001b[0m\u001b[0;34m(\u001b[0m\u001b[0mVAL_DIR\u001b[0m\u001b[0;34m,\u001b[0m \u001b[0mIMG_SIZE\u001b[0m\u001b[0;34m)\u001b[0m\u001b[0;34m\u001b[0m\u001b[0;34m\u001b[0m\u001b[0m\n",
            "\u001b[0;32m<ipython-input-34-e09d457df237>\u001b[0m in \u001b[0;36mload_data\u001b[0;34m(dir_path, img_size)\u001b[0m\n\u001b[1;32m     10\u001b[0m         \u001b[0;32mif\u001b[0m \u001b[0;32mnot\u001b[0m \u001b[0mpath\u001b[0m\u001b[0;34m.\u001b[0m\u001b[0mstartswith\u001b[0m\u001b[0;34m(\u001b[0m\u001b[0;34m'.'\u001b[0m\u001b[0;34m)\u001b[0m\u001b[0;34m:\u001b[0m\u001b[0;34m\u001b[0m\u001b[0;34m\u001b[0m\u001b[0m\n\u001b[1;32m     11\u001b[0m             \u001b[0mlabels\u001b[0m\u001b[0;34m[\u001b[0m\u001b[0mi\u001b[0m\u001b[0;34m]\u001b[0m \u001b[0;34m=\u001b[0m \u001b[0mpath\u001b[0m\u001b[0;34m\u001b[0m\u001b[0;34m\u001b[0m\u001b[0m\n\u001b[0;32m---> 12\u001b[0;31m             \u001b[0;32mfor\u001b[0m \u001b[0mfile\u001b[0m \u001b[0;32min\u001b[0m \u001b[0mos\u001b[0m\u001b[0;34m.\u001b[0m\u001b[0mlistdir\u001b[0m\u001b[0;34m(\u001b[0m\u001b[0mdir_path\u001b[0m \u001b[0;34m+\u001b[0m \u001b[0mpath\u001b[0m\u001b[0;34m)\u001b[0m\u001b[0;34m:\u001b[0m\u001b[0;34m\u001b[0m\u001b[0;34m\u001b[0m\u001b[0m\n\u001b[0m\u001b[1;32m     13\u001b[0m                 \u001b[0;32mif\u001b[0m \u001b[0;32mnot\u001b[0m \u001b[0mfile\u001b[0m\u001b[0;34m.\u001b[0m\u001b[0mstartswith\u001b[0m\u001b[0;34m(\u001b[0m\u001b[0;34m'.'\u001b[0m\u001b[0;34m)\u001b[0m\u001b[0;34m:\u001b[0m\u001b[0;34m\u001b[0m\u001b[0;34m\u001b[0m\u001b[0m\n\u001b[1;32m     14\u001b[0m                     \u001b[0mimg\u001b[0m \u001b[0;34m=\u001b[0m \u001b[0mcv2\u001b[0m\u001b[0;34m.\u001b[0m\u001b[0mimread\u001b[0m\u001b[0;34m(\u001b[0m\u001b[0mdir_path\u001b[0m \u001b[0;34m+\u001b[0m \u001b[0mpath\u001b[0m \u001b[0;34m+\u001b[0m \u001b[0;34m'/'\u001b[0m \u001b[0;34m+\u001b[0m \u001b[0mfile\u001b[0m\u001b[0;34m)\u001b[0m\u001b[0;34m\u001b[0m\u001b[0;34m\u001b[0m\u001b[0m\n",
            "\u001b[0;31mNotADirectoryError\u001b[0m: [Errno 20] Not a directory: '/content/Data_Sample_Brain_Cancer/Data_Sample_Brain_Cancer/TRAIN/Y25.jpg'"
          ]
        }
      ]
    },
    {
      "cell_type": "code",
      "metadata": {
        "id": "qGeKXdVT492B",
        "colab_type": "code",
        "colab": {}
      },
      "source": [
        "demo_datagen = ImageDataGenerator(\n",
        "    rotation_range=15,\n",
        "    width_shift_range=0.05,\n",
        "    height_shift_range=0.05,\n",
        "    rescale=1./255,\n",
        "    shear_range=0.05,\n",
        "    brightness_range=[0.1, 1.5],\n",
        "    horizontal_flip=True,\n",
        "    vertical_flip=True\n",
        ")"
      ],
      "execution_count": 0,
      "outputs": []
    },
    {
      "cell_type": "code",
      "metadata": {
        "id": "9uLLJKDN4_Ml",
        "colab_type": "code",
        "colab": {}
      },
      "source": [
        "TRAIN_DIR = '/content/Data_Sample_Brain_Cancer/TRAIN_CROP/'\n",
        "VAL_DIR = '/content/Data_Sample_Brain_Cancer/VAL_CROP/'\n",
        "IMG_SIZE = (224,224)"
      ],
      "execution_count": 0,
      "outputs": []
    },
    {
      "cell_type": "code",
      "metadata": {
        "id": "mIwyCGYe5lMD",
        "colab_type": "code",
        "outputId": "e281462e-def7-41b7-f077-bf2161f73e27",
        "colab": {
          "base_uri": "https://localhost:8080/",
          "height": 51
        }
      },
      "source": [
        "\n",
        "train_datagen = ImageDataGenerator(\n",
        "    rotation_range=15,\n",
        "    width_shift_range=0.1,\n",
        "    height_shift_range=0.1,\n",
        "    shear_range=0.1,\n",
        "    brightness_range=[0.5, 1.5],\n",
        "    horizontal_flip=True,\n",
        "    vertical_flip=True,\n",
        "    preprocessing_function=preprocess_input\n",
        ")\n",
        "\n",
        "test_datagen = ImageDataGenerator(\n",
        "    preprocessing_function=preprocess_input\n",
        ")\n",
        "\n",
        "\n",
        "train_generator = train_datagen.flow_from_directory(\n",
        "    TRAIN_DIR,\n",
        "    color_mode='rgb',\n",
        "    target_size=IMG_SIZE,\n",
        "    batch_size=32,\n",
        "    class_mode='binary',\n",
        "    seed=RANDOM_SEED\n",
        ")\n",
        "\n",
        "\n",
        "validation_generator = test_datagen.flow_from_directory(\n",
        "    VAL_DIR,\n",
        "    color_mode='rgb',\n",
        "    target_size=IMG_SIZE,\n",
        "    batch_size=16,\n",
        "    class_mode='binary',\n",
        "    seed=RANDOM_SEED\n",
        ")"
      ],
      "execution_count": 0,
      "outputs": [
        {
          "output_type": "stream",
          "text": [
            "Found 193 images belonging to 2 classes.\n",
            "Found 50 images belonging to 2 classes.\n"
          ],
          "name": "stdout"
        }
      ]
    },
    {
      "cell_type": "code",
      "metadata": {
        "id": "nCKF7Yzd55rk",
        "colab_type": "code",
        "outputId": "74098290-f9bb-4654-86a8-c21026cfb572",
        "colab": {
          "base_uri": "https://localhost:8080/",
          "height": 241
        }
      },
      "source": [
        "vgg16_weight_path = '/content/vgg16_weights_tf_dim_ordering_tf_kernels_notop.h5'\n",
        "vgg = VGG16(\n",
        "    weights=vgg16_weight_path,\n",
        "    include_top=False, \n",
        "    input_shape=IMG_SIZE + (3,)\n",
        ")"
      ],
      "execution_count": 0,
      "outputs": [
        {
          "output_type": "stream",
          "text": [
            "WARNING:tensorflow:From /usr/local/lib/python3.6/dist-packages/keras/backend/tensorflow_backend.py:190: The name tf.get_default_session is deprecated. Please use tf.compat.v1.get_default_session instead.\n",
            "\n",
            "WARNING:tensorflow:From /usr/local/lib/python3.6/dist-packages/keras/backend/tensorflow_backend.py:197: The name tf.ConfigProto is deprecated. Please use tf.compat.v1.ConfigProto instead.\n",
            "\n",
            "WARNING:tensorflow:From /usr/local/lib/python3.6/dist-packages/keras/backend/tensorflow_backend.py:203: The name tf.Session is deprecated. Please use tf.compat.v1.Session instead.\n",
            "\n",
            "WARNING:tensorflow:From /usr/local/lib/python3.6/dist-packages/keras/backend/tensorflow_backend.py:207: The name tf.global_variables is deprecated. Please use tf.compat.v1.global_variables instead.\n",
            "\n",
            "WARNING:tensorflow:From /usr/local/lib/python3.6/dist-packages/keras/backend/tensorflow_backend.py:216: The name tf.is_variable_initialized is deprecated. Please use tf.compat.v1.is_variable_initialized instead.\n",
            "\n",
            "WARNING:tensorflow:From /usr/local/lib/python3.6/dist-packages/keras/backend/tensorflow_backend.py:223: The name tf.variables_initializer is deprecated. Please use tf.compat.v1.variables_initializer instead.\n",
            "\n"
          ],
          "name": "stdout"
        }
      ]
    },
    {
      "cell_type": "code",
      "metadata": {
        "id": "KbJXg5fH8Ai1",
        "colab_type": "code",
        "outputId": "4a3d6d30-1d2b-4dbc-b2c9-b840c0aeb240",
        "colab": {
          "base_uri": "https://localhost:8080/",
          "height": 547
        }
      },
      "source": [
        "NUM_CLASSES = 1\n",
        "\n",
        "vgg16 = Sequential()\n",
        "vgg16.add(vgg)\n",
        "vgg16.add(layers.Dropout(0.3))\n",
        "vgg16.add(layers.Flatten())\n",
        "vgg16.add(layers.Dropout(0.5))\n",
        "vgg16.add(layers.Dense(NUM_CLASSES, activation='sigmoid'))\n",
        "\n",
        "vgg16.layers[0].trainable = False\n",
        "\n",
        "vgg16.compile(loss='binary_crossentropy',\n",
        "              optimizer=optimizers.RMSprop(lr=1e-4),\n",
        "              metrics=['accuracy'])\n",
        "\n",
        "\n",
        "adam = Adam(lr=0.0003, beta_1=0.9, beta_2=0.999, epsilon=1e-08, decay=0.0)\n",
        "\n",
        "vgg16.compile(loss='binary_crossentropy',\n",
        "                  optimizer=adam,\n",
        "                  metrics=['accuracy'])\n",
        "vgg16.summary()\n"
      ],
      "execution_count": 0,
      "outputs": [
        {
          "output_type": "stream",
          "text": [
            "WARNING:tensorflow:From /usr/local/lib/python3.6/dist-packages/keras/backend/tensorflow_backend.py:148: The name tf.placeholder_with_default is deprecated. Please use tf.compat.v1.placeholder_with_default instead.\n",
            "\n",
            "WARNING:tensorflow:From /usr/local/lib/python3.6/dist-packages/keras/backend/tensorflow_backend.py:3733: calling dropout (from tensorflow.python.ops.nn_ops) with keep_prob is deprecated and will be removed in a future version.\n",
            "Instructions for updating:\n",
            "Please use `rate` instead of `keep_prob`. Rate should be set to `rate = 1 - keep_prob`.\n",
            "WARNING:tensorflow:From /usr/local/lib/python3.6/dist-packages/keras/optimizers.py:793: The name tf.train.Optimizer is deprecated. Please use tf.compat.v1.train.Optimizer instead.\n",
            "\n",
            "WARNING:tensorflow:From /usr/local/lib/python3.6/dist-packages/keras/backend/tensorflow_backend.py:3657: The name tf.log is deprecated. Please use tf.math.log instead.\n",
            "\n",
            "WARNING:tensorflow:From /usr/local/lib/python3.6/dist-packages/tensorflow_core/python/ops/nn_impl.py:183: where (from tensorflow.python.ops.array_ops) is deprecated and will be removed in a future version.\n",
            "Instructions for updating:\n",
            "Use tf.where in 2.0, which has the same broadcast rule as np.where\n",
            "Model: \"sequential_1\"\n",
            "_________________________________________________________________\n",
            "Layer (type)                 Output Shape              Param #   \n",
            "=================================================================\n",
            "vgg16 (Model)                (None, 7, 7, 512)         14714688  \n",
            "_________________________________________________________________\n",
            "dropout_1 (Dropout)          (None, 7, 7, 512)         0         \n",
            "_________________________________________________________________\n",
            "flatten_1 (Flatten)          (None, 25088)             0         \n",
            "_________________________________________________________________\n",
            "dropout_2 (Dropout)          (None, 25088)             0         \n",
            "_________________________________________________________________\n",
            "dense_1 (Dense)              (None, 1)                 25089     \n",
            "=================================================================\n",
            "Total params: 14,739,777\n",
            "Trainable params: 25,089\n",
            "Non-trainable params: 14,714,688\n",
            "_________________________________________________________________\n"
          ],
          "name": "stdout"
        }
      ]
    },
    {
      "cell_type": "code",
      "metadata": {
        "id": "0kyrDA5Z8Jl7",
        "colab_type": "code",
        "outputId": "cb8224c9-4fe9-42de-b3b6-a498e5af1e9a",
        "colab": {
          "base_uri": "https://localhost:8080/",
          "height": 1000
        }
      },
      "source": [
        "import time\n",
        "\n",
        "start = time.time()\n",
        "\n",
        "vgg16_history = vgg16.fit_generator(\n",
        "    train_generator,\n",
        "    steps_per_epoch=50,\n",
        "    epochs=120,\n",
        "    validation_data=validation_generator,\n",
        "    validation_steps=30,\n",
        ")\n",
        "\n",
        "\n",
        "end = time.time()\n",
        "print(end - start)"
      ],
      "execution_count": 15,
      "outputs": [
        {
          "output_type": "stream",
          "text": [
            "WARNING:tensorflow:From /usr/local/lib/python3.6/dist-packages/keras/backend/tensorflow_backend.py:1033: The name tf.assign_add is deprecated. Please use tf.compat.v1.assign_add instead.\n",
            "\n",
            "WARNING:tensorflow:From /usr/local/lib/python3.6/dist-packages/keras/backend/tensorflow_backend.py:1020: The name tf.assign is deprecated. Please use tf.compat.v1.assign instead.\n",
            "\n",
            "Epoch 1/120\n",
            "50/50 [==============================] - 32s 633ms/step - loss: 3.7441 - acc: 0.6820 - val_loss: 1.2393 - val_acc: 0.8979\n",
            "Epoch 2/120\n",
            "50/50 [==============================] - 23s 467ms/step - loss: 2.4510 - acc: 0.7754 - val_loss: 0.8506 - val_acc: 0.8614\n",
            "Epoch 3/120\n",
            "50/50 [==============================] - 24s 476ms/step - loss: 1.4951 - acc: 0.8596 - val_loss: 0.8359 - val_acc: 0.9188\n",
            "Epoch 4/120\n",
            "50/50 [==============================] - 24s 472ms/step - loss: 1.1887 - acc: 0.8828 - val_loss: 0.7615 - val_acc: 0.9212\n",
            "Epoch 5/120\n",
            "50/50 [==============================] - 24s 470ms/step - loss: 1.4514 - acc: 0.8537 - val_loss: 0.4068 - val_acc: 0.9424\n",
            "Epoch 6/120\n",
            "50/50 [==============================] - 24s 470ms/step - loss: 1.3388 - acc: 0.8574 - val_loss: 0.4695 - val_acc: 0.9592\n",
            "Epoch 7/120\n",
            "50/50 [==============================] - 25s 490ms/step - loss: 1.4128 - acc: 0.8579 - val_loss: 0.4701 - val_acc: 0.9398\n",
            "Epoch 8/120\n",
            "50/50 [==============================] - 24s 475ms/step - loss: 1.4341 - acc: 0.8694 - val_loss: 0.6506 - val_acc: 0.9592\n",
            "Epoch 9/120\n",
            "50/50 [==============================] - 23s 469ms/step - loss: 1.3366 - acc: 0.8667 - val_loss: 1.4047 - val_acc: 0.8560\n",
            "Epoch 10/120\n",
            "50/50 [==============================] - 23s 454ms/step - loss: 0.9156 - acc: 0.9153 - val_loss: 0.8968 - val_acc: 0.8832\n",
            "Epoch 11/120\n",
            "50/50 [==============================] - 24s 478ms/step - loss: 1.1535 - acc: 0.8964 - val_loss: 0.9667 - val_acc: 0.8796\n",
            "Epoch 12/120\n",
            "50/50 [==============================] - 23s 467ms/step - loss: 0.8455 - acc: 0.9178 - val_loss: 1.0042 - val_acc: 0.8995\n",
            "Epoch 13/120\n",
            "50/50 [==============================] - 24s 476ms/step - loss: 0.6506 - acc: 0.9386 - val_loss: 1.0054 - val_acc: 0.9005\n",
            "Epoch 14/120\n",
            "50/50 [==============================] - 24s 489ms/step - loss: 0.7036 - acc: 0.9064 - val_loss: 0.7038 - val_acc: 0.9212\n",
            "Epoch 15/120\n",
            "50/50 [==============================] - 23s 470ms/step - loss: 1.0769 - acc: 0.9158 - val_loss: 0.7511 - val_acc: 0.9188\n",
            "Epoch 16/120\n",
            "50/50 [==============================] - 23s 465ms/step - loss: 1.3832 - acc: 0.8824 - val_loss: 0.7984 - val_acc: 0.8804\n",
            "Epoch 17/120\n",
            "50/50 [==============================] - 24s 470ms/step - loss: 0.7056 - acc: 0.9354 - val_loss: 1.5635 - val_acc: 0.8822\n",
            "Epoch 18/120\n",
            "50/50 [==============================] - 23s 468ms/step - loss: 0.7953 - acc: 0.9273 - val_loss: 1.6783 - val_acc: 0.8587\n",
            "Epoch 19/120\n",
            "50/50 [==============================] - 24s 472ms/step - loss: 0.4700 - acc: 0.9523 - val_loss: 0.6865 - val_acc: 0.9188\n",
            "Epoch 20/120\n",
            "50/50 [==============================] - 24s 474ms/step - loss: 0.8781 - acc: 0.9214 - val_loss: 0.9685 - val_acc: 0.8832\n",
            "Epoch 21/120\n",
            "50/50 [==============================] - 24s 485ms/step - loss: 0.7533 - acc: 0.9304 - val_loss: 0.9470 - val_acc: 0.9162\n",
            "Epoch 22/120\n",
            "50/50 [==============================] - 23s 466ms/step - loss: 1.0398 - acc: 0.9058 - val_loss: 1.1933 - val_acc: 0.9022\n",
            "Epoch 23/120\n",
            "50/50 [==============================] - 23s 457ms/step - loss: 1.3411 - acc: 0.8847 - val_loss: 0.3698 - val_acc: 0.9398\n",
            "Epoch 24/120\n",
            "50/50 [==============================] - 24s 478ms/step - loss: 0.8210 - acc: 0.9046 - val_loss: 2.1300 - val_acc: 0.8342\n",
            "Epoch 25/120\n",
            "50/50 [==============================] - 23s 467ms/step - loss: 0.6375 - acc: 0.9435 - val_loss: 1.1569 - val_acc: 0.8770\n",
            "Epoch 26/120\n",
            "50/50 [==============================] - 24s 472ms/step - loss: 0.5616 - acc: 0.9442 - val_loss: 1.1055 - val_acc: 0.8614\n",
            "Epoch 27/120\n",
            "50/50 [==============================] - 24s 472ms/step - loss: 0.5266 - acc: 0.9536 - val_loss: 1.3322 - val_acc: 0.8377\n",
            "Epoch 28/120\n",
            "50/50 [==============================] - 25s 492ms/step - loss: 0.5853 - acc: 0.9492 - val_loss: 0.4560 - val_acc: 0.9402\n",
            "Epoch 29/120\n",
            "50/50 [==============================] - 24s 476ms/step - loss: 0.8340 - acc: 0.9309 - val_loss: 1.5198 - val_acc: 0.8429\n",
            "Epoch 30/120\n",
            "50/50 [==============================] - 24s 472ms/step - loss: 0.4619 - acc: 0.9555 - val_loss: 1.6893 - val_acc: 0.8370\n",
            "Epoch 31/120\n",
            "50/50 [==============================] - 24s 475ms/step - loss: 0.4983 - acc: 0.9536 - val_loss: 1.3169 - val_acc: 0.8560\n",
            "Epoch 32/120\n",
            "50/50 [==============================] - 24s 472ms/step - loss: 0.3369 - acc: 0.9655 - val_loss: 0.8438 - val_acc: 0.9239\n",
            "Epoch 33/120\n",
            "50/50 [==============================] - 24s 472ms/step - loss: 0.4758 - acc: 0.9549 - val_loss: 1.2374 - val_acc: 0.8770\n",
            "Epoch 34/120\n",
            "50/50 [==============================] - 24s 479ms/step - loss: 0.3799 - acc: 0.9630 - val_loss: 1.4720 - val_acc: 0.8614\n",
            "Epoch 35/120\n",
            "50/50 [==============================] - 25s 498ms/step - loss: 0.7731 - acc: 0.9189 - val_loss: 1.0868 - val_acc: 0.8743\n",
            "Epoch 36/120\n",
            "50/50 [==============================] - 24s 473ms/step - loss: 0.7463 - acc: 0.9365 - val_loss: 1.0830 - val_acc: 0.8859\n",
            "Epoch 37/120\n",
            "50/50 [==============================] - 24s 473ms/step - loss: 0.3654 - acc: 0.9580 - val_loss: 1.0746 - val_acc: 0.8796\n",
            "Epoch 38/120\n",
            "50/50 [==============================] - 23s 467ms/step - loss: 0.5249 - acc: 0.9421 - val_loss: 0.8701 - val_acc: 0.8995\n",
            "Epoch 39/120\n",
            "50/50 [==============================] - 24s 474ms/step - loss: 0.4814 - acc: 0.9549 - val_loss: 0.9069 - val_acc: 0.8953\n",
            "Epoch 40/120\n",
            "50/50 [==============================] - 23s 467ms/step - loss: 0.3664 - acc: 0.9636 - val_loss: 1.1834 - val_acc: 0.9049\n",
            "Epoch 41/120\n",
            "50/50 [==============================] - 24s 476ms/step - loss: 0.3831 - acc: 0.9642 - val_loss: 0.9806 - val_acc: 0.9005\n",
            "Epoch 42/120\n",
            "50/50 [==============================] - 24s 489ms/step - loss: 0.3177 - acc: 0.9661 - val_loss: 0.9119 - val_acc: 0.9185\n",
            "Epoch 43/120\n",
            "50/50 [==============================] - 23s 468ms/step - loss: 0.7045 - acc: 0.9403 - val_loss: 1.0287 - val_acc: 0.9188\n",
            "Epoch 44/120\n",
            "50/50 [==============================] - 23s 459ms/step - loss: 0.3795 - acc: 0.9593 - val_loss: 0.9595 - val_acc: 0.9212\n",
            "Epoch 45/120\n",
            "50/50 [==============================] - 23s 458ms/step - loss: 0.2854 - acc: 0.9737 - val_loss: 1.0531 - val_acc: 0.9215\n",
            "Epoch 46/120\n",
            "50/50 [==============================] - 23s 469ms/step - loss: 0.3894 - acc: 0.9630 - val_loss: 0.9801 - val_acc: 0.9185\n",
            "Epoch 47/120\n",
            "50/50 [==============================] - 23s 456ms/step - loss: 0.3428 - acc: 0.9649 - val_loss: 0.7132 - val_acc: 0.9241\n",
            "Epoch 48/120\n",
            "50/50 [==============================] - 23s 465ms/step - loss: 0.4004 - acc: 0.9636 - val_loss: 0.8662 - val_acc: 0.8967\n",
            "Epoch 49/120\n",
            "50/50 [==============================] - 24s 482ms/step - loss: 0.3533 - acc: 0.9630 - val_loss: 0.5304 - val_acc: 0.9607\n",
            "Epoch 50/120\n",
            "50/50 [==============================] - 23s 456ms/step - loss: 0.7828 - acc: 0.9327 - val_loss: 0.4983 - val_acc: 0.9402\n",
            "Epoch 51/120\n",
            "50/50 [==============================] - 24s 486ms/step - loss: 0.6276 - acc: 0.9296 - val_loss: 1.2294 - val_acc: 0.9188\n",
            "Epoch 52/120\n",
            "50/50 [==============================] - 23s 467ms/step - loss: 0.4634 - acc: 0.9593 - val_loss: 1.0919 - val_acc: 0.9212\n",
            "Epoch 53/120\n",
            "50/50 [==============================] - 23s 460ms/step - loss: 0.3426 - acc: 0.9674 - val_loss: 1.4173 - val_acc: 0.8979\n",
            "Epoch 54/120\n",
            "50/50 [==============================] - 24s 473ms/step - loss: 0.4864 - acc: 0.9555 - val_loss: 0.8381 - val_acc: 0.9212\n",
            "Epoch 55/120\n",
            "50/50 [==============================] - 24s 474ms/step - loss: 0.4474 - acc: 0.9580 - val_loss: 1.1522 - val_acc: 0.8979\n",
            "Epoch 56/120\n",
            "50/50 [==============================] - 24s 488ms/step - loss: 0.2721 - acc: 0.9724 - val_loss: 1.1354 - val_acc: 0.9212\n",
            "Epoch 57/120\n",
            "50/50 [==============================] - 24s 478ms/step - loss: 0.6302 - acc: 0.9459 - val_loss: 0.3610 - val_acc: 0.9581\n",
            "Epoch 58/120\n",
            "50/50 [==============================] - 23s 462ms/step - loss: 0.3952 - acc: 0.9630 - val_loss: 1.1854 - val_acc: 0.9239\n",
            "Epoch 59/120\n",
            "50/50 [==============================] - 24s 481ms/step - loss: 0.6591 - acc: 0.9321 - val_loss: 0.4710 - val_acc: 0.9581\n",
            "Epoch 60/120\n",
            "50/50 [==============================] - 24s 485ms/step - loss: 0.5299 - acc: 0.9422 - val_loss: 1.2179 - val_acc: 0.9022\n",
            "Epoch 61/120\n",
            "50/50 [==============================] - 24s 471ms/step - loss: 0.7008 - acc: 0.9453 - val_loss: 0.7546 - val_acc: 0.9188\n",
            "Epoch 62/120\n",
            "50/50 [==============================] - 24s 478ms/step - loss: 0.4054 - acc: 0.9649 - val_loss: 0.6586 - val_acc: 0.9402\n",
            "Epoch 63/120\n",
            "50/50 [==============================] - 25s 497ms/step - loss: 0.3416 - acc: 0.9680 - val_loss: 1.0489 - val_acc: 0.9188\n",
            "Epoch 64/120\n",
            "50/50 [==============================] - 24s 471ms/step - loss: 0.2743 - acc: 0.9737 - val_loss: 1.0585 - val_acc: 0.9212\n",
            "Epoch 65/120\n",
            "50/50 [==============================] - 24s 484ms/step - loss: 0.6996 - acc: 0.9453 - val_loss: 0.6451 - val_acc: 0.9424\n",
            "Epoch 66/120\n",
            "50/50 [==============================] - 24s 471ms/step - loss: 0.3240 - acc: 0.9730 - val_loss: 0.8402 - val_acc: 0.9185\n",
            "Epoch 67/120\n",
            "50/50 [==============================] - 24s 477ms/step - loss: 0.2851 - acc: 0.9693 - val_loss: 0.8855 - val_acc: 0.9241\n",
            "Epoch 68/120\n",
            "50/50 [==============================] - 23s 462ms/step - loss: 0.2957 - acc: 0.9737 - val_loss: 0.9049 - val_acc: 0.9348\n",
            "Epoch 69/120\n",
            "50/50 [==============================] - 24s 478ms/step - loss: 0.3526 - acc: 0.9668 - val_loss: 1.0020 - val_acc: 0.9162\n",
            "Epoch 70/120\n",
            "50/50 [==============================] - 24s 490ms/step - loss: 0.3700 - acc: 0.9693 - val_loss: 1.1348 - val_acc: 0.9239\n",
            "Epoch 71/120\n",
            "50/50 [==============================] - 23s 465ms/step - loss: 0.2658 - acc: 0.9737 - val_loss: 0.4669 - val_acc: 0.9372\n",
            "Epoch 72/120\n",
            "50/50 [==============================] - 23s 466ms/step - loss: 0.3472 - acc: 0.9680 - val_loss: 0.9799 - val_acc: 0.9212\n",
            "Epoch 73/120\n",
            "50/50 [==============================] - 23s 467ms/step - loss: 0.2449 - acc: 0.9756 - val_loss: 1.0837 - val_acc: 0.9215\n",
            "Epoch 74/120\n",
            "50/50 [==============================] - 23s 457ms/step - loss: 0.3119 - acc: 0.9737 - val_loss: 0.6984 - val_acc: 0.9375\n",
            "Epoch 75/120\n",
            "50/50 [==============================] - 23s 461ms/step - loss: 0.3679 - acc: 0.9693 - val_loss: 1.3043 - val_acc: 0.9188\n",
            "Epoch 76/120\n",
            "50/50 [==============================] - 24s 470ms/step - loss: 0.2833 - acc: 0.9730 - val_loss: 0.4656 - val_acc: 0.9592\n",
            "Epoch 77/120\n",
            "50/50 [==============================] - 24s 487ms/step - loss: 0.3200 - acc: 0.9705 - val_loss: 0.8863 - val_acc: 0.9188\n",
            "Epoch 78/120\n",
            "50/50 [==============================] - 24s 472ms/step - loss: 0.4460 - acc: 0.9611 - val_loss: 1.0302 - val_acc: 0.8995\n",
            "Epoch 79/120\n",
            "50/50 [==============================] - 24s 471ms/step - loss: 0.2608 - acc: 0.9743 - val_loss: 1.0562 - val_acc: 0.9188\n",
            "Epoch 80/120\n",
            "50/50 [==============================] - 23s 465ms/step - loss: 0.2851 - acc: 0.9743 - val_loss: 1.0734 - val_acc: 0.9212\n",
            "Epoch 81/120\n",
            "50/50 [==============================] - 23s 469ms/step - loss: 0.3395 - acc: 0.9687 - val_loss: 1.0853 - val_acc: 0.9241\n",
            "Epoch 82/120\n",
            "50/50 [==============================] - 23s 451ms/step - loss: 0.3357 - acc: 0.9705 - val_loss: 1.3540 - val_acc: 0.9158\n",
            "Epoch 83/120\n",
            "50/50 [==============================] - 23s 462ms/step - loss: 0.3265 - acc: 0.9693 - val_loss: 0.6827 - val_acc: 0.9398\n",
            "Epoch 84/120\n",
            "50/50 [==============================] - 24s 482ms/step - loss: 0.2278 - acc: 0.9781 - val_loss: 0.9501 - val_acc: 0.9212\n",
            "Epoch 85/120\n",
            "50/50 [==============================] - 23s 462ms/step - loss: 0.4466 - acc: 0.9522 - val_loss: 1.1121 - val_acc: 0.9215\n",
            "Epoch 86/120\n",
            "50/50 [==============================] - 23s 465ms/step - loss: 0.5929 - acc: 0.9396 - val_loss: 1.0589 - val_acc: 0.9212\n",
            "Epoch 87/120\n",
            "50/50 [==============================] - 24s 474ms/step - loss: 0.3467 - acc: 0.9687 - val_loss: 0.7481 - val_acc: 0.9241\n",
            "Epoch 88/120\n",
            "50/50 [==============================] - 23s 461ms/step - loss: 0.8109 - acc: 0.9344 - val_loss: 0.3544 - val_acc: 0.9783\n",
            "Epoch 89/120\n",
            "50/50 [==============================] - 24s 478ms/step - loss: 0.3707 - acc: 0.9643 - val_loss: 1.1397 - val_acc: 0.9215\n",
            "Epoch 90/120\n",
            "50/50 [==============================] - 23s 462ms/step - loss: 0.3236 - acc: 0.9680 - val_loss: 1.1170 - val_acc: 0.9185\n",
            "Epoch 91/120\n",
            "50/50 [==============================] - 24s 481ms/step - loss: 0.2920 - acc: 0.9730 - val_loss: 1.1305 - val_acc: 0.9188\n",
            "Epoch 92/120\n",
            "50/50 [==============================] - 24s 476ms/step - loss: 0.6809 - acc: 0.9490 - val_loss: 0.3048 - val_acc: 0.9810\n",
            "Epoch 93/120\n",
            "50/50 [==============================] - 23s 467ms/step - loss: 0.4027 - acc: 0.9649 - val_loss: 0.9546 - val_acc: 0.9241\n",
            "Epoch 94/120\n",
            "50/50 [==============================] - 23s 465ms/step - loss: 0.2796 - acc: 0.9737 - val_loss: 0.9588 - val_acc: 0.9185\n",
            "Epoch 95/120\n",
            "50/50 [==============================] - 24s 482ms/step - loss: 0.7112 - acc: 0.9359 - val_loss: 0.7731 - val_acc: 0.9398\n",
            "Epoch 96/120\n",
            "50/50 [==============================] - 24s 473ms/step - loss: 0.2947 - acc: 0.9705 - val_loss: 0.4242 - val_acc: 0.9185\n",
            "Epoch 97/120\n",
            "50/50 [==============================] - 24s 478ms/step - loss: 0.2401 - acc: 0.9781 - val_loss: 0.8339 - val_acc: 0.9162\n",
            "Epoch 98/120\n",
            "50/50 [==============================] - 25s 493ms/step - loss: 0.2518 - acc: 0.9774 - val_loss: 0.6684 - val_acc: 0.9239\n",
            "Epoch 99/120\n",
            "50/50 [==============================] - 23s 467ms/step - loss: 0.3195 - acc: 0.9699 - val_loss: 0.3866 - val_acc: 0.9607\n",
            "Epoch 100/120\n",
            "50/50 [==============================] - 23s 466ms/step - loss: 0.2611 - acc: 0.9799 - val_loss: 0.5858 - val_acc: 0.9402\n",
            "Epoch 101/120\n",
            "50/50 [==============================] - 23s 457ms/step - loss: 0.2646 - acc: 0.9724 - val_loss: 0.2941 - val_acc: 0.9817\n",
            "Epoch 102/120\n",
            "50/50 [==============================] - 24s 478ms/step - loss: 0.2638 - acc: 0.9762 - val_loss: 0.6184 - val_acc: 0.9130\n",
            "Epoch 103/120\n",
            "50/50 [==============================] - 24s 478ms/step - loss: 0.3520 - acc: 0.9705 - val_loss: 0.2514 - val_acc: 0.9791\n",
            "Epoch 104/120\n",
            "50/50 [==============================] - 23s 468ms/step - loss: 0.2832 - acc: 0.9730 - val_loss: 0.6980 - val_acc: 0.9402\n",
            "Epoch 105/120\n",
            "50/50 [==============================] - 24s 489ms/step - loss: 0.5787 - acc: 0.9578 - val_loss: 0.6149 - val_acc: 0.9398\n",
            "Epoch 106/120\n",
            "50/50 [==============================] - 23s 469ms/step - loss: 0.2999 - acc: 0.9712 - val_loss: 0.2265 - val_acc: 0.9429\n",
            "Epoch 107/120\n",
            "50/50 [==============================] - 23s 469ms/step - loss: 0.2977 - acc: 0.9774 - val_loss: 0.1740 - val_acc: 0.9241\n",
            "Epoch 108/120\n",
            "50/50 [==============================] - 24s 482ms/step - loss: 0.2082 - acc: 0.9787 - val_loss: 0.3028 - val_acc: 0.9158\n",
            "Epoch 109/120\n",
            "50/50 [==============================] - 24s 478ms/step - loss: 0.2224 - acc: 0.9812 - val_loss: 0.1807 - val_acc: 0.9817\n",
            "Epoch 110/120\n",
            "50/50 [==============================] - 23s 465ms/step - loss: 0.2378 - acc: 0.9787 - val_loss: 0.2763 - val_acc: 0.9592\n",
            "Epoch 111/120\n",
            "50/50 [==============================] - 24s 473ms/step - loss: 0.3026 - acc: 0.9737 - val_loss: 0.5003 - val_acc: 0.9424\n",
            "Epoch 112/120\n",
            "50/50 [==============================] - 24s 488ms/step - loss: 0.3398 - acc: 0.9718 - val_loss: 0.1349 - val_acc: 0.9810\n",
            "Epoch 113/120\n",
            "50/50 [==============================] - 23s 468ms/step - loss: 0.2823 - acc: 0.9756 - val_loss: 0.4936 - val_acc: 0.9398\n",
            "Epoch 114/120\n",
            "50/50 [==============================] - 23s 457ms/step - loss: 0.2573 - acc: 0.9793 - val_loss: 0.2670 - val_acc: 0.9592\n",
            "Epoch 115/120\n",
            "50/50 [==============================] - 23s 470ms/step - loss: 0.3044 - acc: 0.9774 - val_loss: 0.0343 - val_acc: 0.9817\n",
            "Epoch 116/120\n",
            "50/50 [==============================] - 24s 479ms/step - loss: 0.2867 - acc: 0.9743 - val_loss: 0.1268 - val_acc: 0.9565\n",
            "Epoch 117/120\n",
            "50/50 [==============================] - 24s 472ms/step - loss: 0.2864 - acc: 0.9724 - val_loss: 0.1265 - val_acc: 0.9791\n",
            "Epoch 118/120\n",
            "50/50 [==============================] - 24s 480ms/step - loss: 0.2396 - acc: 0.9774 - val_loss: 0.0689 - val_acc: 0.9620\n",
            "Epoch 119/120\n",
            "50/50 [==============================] - 25s 497ms/step - loss: 0.2539 - acc: 0.9762 - val_loss: 0.2602 - val_acc: 0.9424\n",
            "Epoch 120/120\n",
            "50/50 [==============================] - 24s 483ms/step - loss: 0.2200 - acc: 0.9787 - val_loss: 0.0307 - val_acc: 0.9783\n",
            "2845.72327542305\n"
          ],
          "name": "stdout"
        }
      ]
    },
    {
      "cell_type": "code",
      "metadata": {
        "id": "qygJg3LKUltt",
        "colab_type": "code",
        "colab": {
          "base_uri": "https://localhost:8080/",
          "height": 231
        },
        "outputId": "0db334f0-ffbb-4d5e-faad-5344b0b5a0ba"
      },
      "source": [
        "# validate on val set\n",
        "predictions = vgg16.predict(X_test_prep)\n",
        "predictions = [1 if x>0.5 else 0 for x in predictions]\n",
        "\n",
        "_, train_acc = vgg16.evaluate(X_val_prep, y_val, verbose=0)\n",
        "_, test_acc = vgg16.evaluate(X_test_prep, y_test, verbose=0)"
      ],
      "execution_count": 16,
      "outputs": [
        {
          "output_type": "error",
          "ename": "NameError",
          "evalue": "ignored",
          "traceback": [
            "\u001b[0;31m---------------------------------------------------------------------------\u001b[0m",
            "\u001b[0;31mNameError\u001b[0m                                 Traceback (most recent call last)",
            "\u001b[0;32m<ipython-input-16-f6e876ac3198>\u001b[0m in \u001b[0;36m<module>\u001b[0;34m()\u001b[0m\n\u001b[0;32m----> 1\u001b[0;31m \u001b[0mpredictions\u001b[0m \u001b[0;34m=\u001b[0m \u001b[0mvgg16\u001b[0m\u001b[0;34m.\u001b[0m\u001b[0mpredict\u001b[0m\u001b[0;34m(\u001b[0m\u001b[0mX_test_prep\u001b[0m\u001b[0;34m)\u001b[0m\u001b[0;34m\u001b[0m\u001b[0;34m\u001b[0m\u001b[0m\n\u001b[0m\u001b[1;32m      2\u001b[0m \u001b[0mpredictions\u001b[0m \u001b[0;34m=\u001b[0m \u001b[0;34m[\u001b[0m\u001b[0;36m1\u001b[0m \u001b[0;32mif\u001b[0m \u001b[0mx\u001b[0m\u001b[0;34m>\u001b[0m\u001b[0;36m0.5\u001b[0m \u001b[0;32melse\u001b[0m \u001b[0;36m0\u001b[0m \u001b[0;32mfor\u001b[0m \u001b[0mx\u001b[0m \u001b[0;32min\u001b[0m \u001b[0mpredictions\u001b[0m\u001b[0;34m]\u001b[0m\u001b[0;34m\u001b[0m\u001b[0;34m\u001b[0m\u001b[0m\n\u001b[1;32m      3\u001b[0m \u001b[0;34m\u001b[0m\u001b[0m\n\u001b[1;32m      4\u001b[0m \u001b[0m_\u001b[0m\u001b[0;34m,\u001b[0m \u001b[0mtrain_acc\u001b[0m \u001b[0;34m=\u001b[0m \u001b[0mvgg16\u001b[0m\u001b[0;34m.\u001b[0m\u001b[0mevaluate\u001b[0m\u001b[0;34m(\u001b[0m\u001b[0mX_val_prep\u001b[0m\u001b[0;34m,\u001b[0m \u001b[0my_val\u001b[0m\u001b[0;34m,\u001b[0m \u001b[0mverbose\u001b[0m\u001b[0;34m=\u001b[0m\u001b[0;36m0\u001b[0m\u001b[0;34m)\u001b[0m\u001b[0;34m\u001b[0m\u001b[0;34m\u001b[0m\u001b[0m\n\u001b[1;32m      5\u001b[0m \u001b[0m_\u001b[0m\u001b[0;34m,\u001b[0m \u001b[0mtest_acc\u001b[0m \u001b[0;34m=\u001b[0m \u001b[0mvgg16\u001b[0m\u001b[0;34m.\u001b[0m\u001b[0mevaluate\u001b[0m\u001b[0;34m(\u001b[0m\u001b[0mX_test_prep\u001b[0m\u001b[0;34m,\u001b[0m \u001b[0my_test\u001b[0m\u001b[0;34m,\u001b[0m \u001b[0mverbose\u001b[0m\u001b[0;34m=\u001b[0m\u001b[0;36m0\u001b[0m\u001b[0;34m)\u001b[0m\u001b[0;34m\u001b[0m\u001b[0;34m\u001b[0m\u001b[0m\n",
            "\u001b[0;31mNameError\u001b[0m: name 'X_test_prep' is not defined"
          ]
        }
      ]
    }
  ]
}