{
  "nbformat": 4,
  "nbformat_minor": 0,
  "metadata": {
    "colab": {
      "name": "Untitled16.ipynb",
      "provenance": [],
      "authorship_tag": "ABX9TyO3WaFo7ogvoR9sFC+GO2+d",
      "include_colab_link": true
    },
    "kernelspec": {
      "name": "python3",
      "display_name": "Python 3"
    },
    "accelerator": "GPU"
  },
  "cells": [
    {
      "cell_type": "markdown",
      "metadata": {
        "id": "view-in-github",
        "colab_type": "text"
      },
      "source": [
        "<a href=\"https://colab.research.google.com/github/MarioTiara/Data_Sample_Brain_Cancer/blob/master/Untitled16.ipynb\" target=\"_parent\"><img src=\"https://colab.research.google.com/assets/colab-badge.svg\" alt=\"Open In Colab\"/></a>"
      ]
    },
    {
      "cell_type": "code",
      "metadata": {
        "id": "mKJV-fff5A3f",
        "colab_type": "code",
        "colab": {
          "base_uri": "https://localhost:8080/",
          "height": 102
        },
        "outputId": "3ddfe4ad-7216-4f42-b9bb-c4f8e9fb3772"
      },
      "source": [
        "!git clone https://github.com/MarioTiara/Data_Sample_Brain_Cancer.git"
      ],
      "execution_count": 1,
      "outputs": [
        {
          "output_type": "stream",
          "text": [
            "Cloning into 'Data_Sample_Brain_Cancer'...\n",
            "remote: Enumerating objects: 226, done.\u001b[K\n",
            "remote: Total 226 (delta 0), reused 0 (delta 0), pack-reused 226\u001b[K\n",
            "Receiving objects: 100% (226/226), 7.14 MiB | 4.27 MiB/s, done.\n",
            "Resolving deltas: 100% (5/5), done.\n"
          ],
          "name": "stdout"
        }
      ]
    },
    {
      "cell_type": "code",
      "metadata": {
        "id": "D5_imnVP5LC3",
        "colab_type": "code",
        "colab": {}
      },
      "source": [
        "import os\n",
        "os.chdir('/content/sample_data/')"
      ],
      "execution_count": 0,
      "outputs": []
    },
    {
      "cell_type": "code",
      "metadata": {
        "id": "Zk-isAKp4BeA",
        "colab_type": "code",
        "colab": {}
      },
      "source": [
        "import glob\n",
        "import numpy as np\n",
        "import pandas as pd\n",
        "import math\n",
        "import seaborn as sns\n",
        "import umap\n",
        "import sys\n",
        "import random\n",
        "import warnings\n",
        "import cv2\n",
        "import os\n",
        "import shutil\n",
        "import itertools\n",
        "import imutils\n",
        "from matplotlib import pyplot\n",
        "import matplotlib.pyplot as plt\n",
        "from matplotlib import pyplot\n",
        "from numpy import expand_dims\n",
        "from PIL import Image\n",
        "from scipy import misc\n",
        "from os import listdir\n",
        "from os.path import isfile,join\n",
        "from collections import Counter\n",
        "from random import shuffle\n",
        "from collections import Counter\n",
        "from itertools import chain\n",
        "from tqdm import tqdm"
      ],
      "execution_count": 0,
      "outputs": []
    },
    {
      "cell_type": "code",
      "metadata": {
        "id": "09wECzK04RYe",
        "colab_type": "code",
        "colab": {}
      },
      "source": [
        "from sklearn.preprocessing import LabelBinarizer\n",
        "from sklearn.model_selection import train_test_split\n",
        "from sklearn.metrics import accuracy_score,confusion_matrix\n",
        "from sklearn.decomposition import PCA\n",
        "from sklearn.manifold import TSNE"
      ],
      "execution_count": 0,
      "outputs": []
    },
    {
      "cell_type": "code",
      "metadata": {
        "id": "D44xrDvV4WCf",
        "colab_type": "code",
        "colab": {}
      },
      "source": [
        "from skimage.io import imread, imshow, imread_collection, concatenate_images\n",
        "from skimage.transform import resize\n",
        "from skimage.morphology import label"
      ],
      "execution_count": 0,
      "outputs": []
    },
    {
      "cell_type": "code",
      "metadata": {
        "id": "jdL63xYz4ZyE",
        "colab_type": "code",
        "colab": {}
      },
      "source": [
        "import tensorflow as tf\n",
        "import keras\n",
        "from keras import layers\n",
        "from keras import backend as K\n",
        "from keras.layers.core import Dropout, Lambda\n",
        "from keras.layers.convolutional import Conv2D, Conv2DTranspose\n",
        "from keras.layers import Conv2D, MaxPooling2D\n",
        "from keras.layers import Activation, Dropout, Flatten, Dense\n",
        "from keras.callbacks import EarlyStopping, ModelCheckpoint\n",
        "from keras.layers.merge import concatenate\n",
        "from keras.utils.np_utils import to_categorical\n",
        "from keras.layers import Input\n",
        "from keras.models import Model, Sequential,load_model\n",
        "from keras.optimizers import Adam, RMSprop\n",
        "from keras import optimizers\n",
        "from keras.preprocessing.image import ImageDataGenerator, load_img,img_to_array,array_to_img"
      ],
      "execution_count": 0,
      "outputs": []
    },
    {
      "cell_type": "code",
      "metadata": {
        "id": "cKVkc8vt4g_j",
        "colab_type": "code",
        "colab": {}
      },
      "source": [
        "from keras.applications.vgg16 import VGG16\n",
        "from keras.applications.vgg16 import VGG16, preprocess_input\n",
        "from keras.preprocessing.image import load_img\n",
        "from keras.preprocessing.image import img_to_array\n"
      ],
      "execution_count": 0,
      "outputs": []
    },
    {
      "cell_type": "code",
      "metadata": {
        "id": "luhVuyaF4khn",
        "colab_type": "code",
        "colab": {}
      },
      "source": [
        "RANDOM_SEED = 123"
      ],
      "execution_count": 0,
      "outputs": []
    },
    {
      "cell_type": "code",
      "metadata": {
        "id": "qGeKXdVT492B",
        "colab_type": "code",
        "colab": {}
      },
      "source": [
        "demo_datagen = ImageDataGenerator(\n",
        "    rotation_range=15,\n",
        "    width_shift_range=0.05,\n",
        "    height_shift_range=0.05,\n",
        "    rescale=1./255,\n",
        "    shear_range=0.05,\n",
        "    brightness_range=[0.1, 1.5],\n",
        "    horizontal_flip=True,\n",
        "    vertical_flip=True\n",
        ")"
      ],
      "execution_count": 0,
      "outputs": []
    },
    {
      "cell_type": "code",
      "metadata": {
        "id": "9uLLJKDN4_Ml",
        "colab_type": "code",
        "colab": {}
      },
      "source": [
        "TRAIN_DIR = '/content/Data_Sample_Brain_Cancer/TRAIN_CROP/'\n",
        "VAL_DIR = '/content/Data_Sample_Brain_Cancer/VAL_CROP/'\n",
        "IMG_SIZE = (224,224)"
      ],
      "execution_count": 0,
      "outputs": []
    },
    {
      "cell_type": "code",
      "metadata": {
        "id": "mIwyCGYe5lMD",
        "colab_type": "code",
        "colab": {
          "base_uri": "https://localhost:8080/",
          "height": 51
        },
        "outputId": "e281462e-def7-41b7-f077-bf2161f73e27"
      },
      "source": [
        "\n",
        "train_datagen = ImageDataGenerator(\n",
        "    rotation_range=15,\n",
        "    width_shift_range=0.1,\n",
        "    height_shift_range=0.1,\n",
        "    shear_range=0.1,\n",
        "    brightness_range=[0.5, 1.5],\n",
        "    horizontal_flip=True,\n",
        "    vertical_flip=True,\n",
        "    preprocessing_function=preprocess_input\n",
        ")\n",
        "\n",
        "test_datagen = ImageDataGenerator(\n",
        "    preprocessing_function=preprocess_input\n",
        ")\n",
        "\n",
        "\n",
        "train_generator = train_datagen.flow_from_directory(\n",
        "    TRAIN_DIR,\n",
        "    color_mode='rgb',\n",
        "    target_size=IMG_SIZE,\n",
        "    batch_size=32,\n",
        "    class_mode='binary',\n",
        "    seed=RANDOM_SEED\n",
        ")\n",
        "\n",
        "\n",
        "validation_generator = test_datagen.flow_from_directory(\n",
        "    VAL_DIR,\n",
        "    color_mode='rgb',\n",
        "    target_size=IMG_SIZE,\n",
        "    batch_size=16,\n",
        "    class_mode='binary',\n",
        "    seed=RANDOM_SEED\n",
        ")"
      ],
      "execution_count": 21,
      "outputs": [
        {
          "output_type": "stream",
          "text": [
            "Found 193 images belonging to 2 classes.\n",
            "Found 50 images belonging to 2 classes.\n"
          ],
          "name": "stdout"
        }
      ]
    },
    {
      "cell_type": "code",
      "metadata": {
        "id": "nCKF7Yzd55rk",
        "colab_type": "code",
        "colab": {
          "base_uri": "https://localhost:8080/",
          "height": 241
        },
        "outputId": "74098290-f9bb-4654-86a8-c21026cfb572"
      },
      "source": [
        "vgg16_weight_path = '/content/vgg16_weights_tf_dim_ordering_tf_kernels_notop.h5'\n",
        "vgg = VGG16(\n",
        "    weights=vgg16_weight_path,\n",
        "    include_top=False, \n",
        "    input_shape=IMG_SIZE + (3,)\n",
        ")"
      ],
      "execution_count": 23,
      "outputs": [
        {
          "output_type": "stream",
          "text": [
            "WARNING:tensorflow:From /usr/local/lib/python3.6/dist-packages/keras/backend/tensorflow_backend.py:190: The name tf.get_default_session is deprecated. Please use tf.compat.v1.get_default_session instead.\n",
            "\n",
            "WARNING:tensorflow:From /usr/local/lib/python3.6/dist-packages/keras/backend/tensorflow_backend.py:197: The name tf.ConfigProto is deprecated. Please use tf.compat.v1.ConfigProto instead.\n",
            "\n",
            "WARNING:tensorflow:From /usr/local/lib/python3.6/dist-packages/keras/backend/tensorflow_backend.py:203: The name tf.Session is deprecated. Please use tf.compat.v1.Session instead.\n",
            "\n",
            "WARNING:tensorflow:From /usr/local/lib/python3.6/dist-packages/keras/backend/tensorflow_backend.py:207: The name tf.global_variables is deprecated. Please use tf.compat.v1.global_variables instead.\n",
            "\n",
            "WARNING:tensorflow:From /usr/local/lib/python3.6/dist-packages/keras/backend/tensorflow_backend.py:216: The name tf.is_variable_initialized is deprecated. Please use tf.compat.v1.is_variable_initialized instead.\n",
            "\n",
            "WARNING:tensorflow:From /usr/local/lib/python3.6/dist-packages/keras/backend/tensorflow_backend.py:223: The name tf.variables_initializer is deprecated. Please use tf.compat.v1.variables_initializer instead.\n",
            "\n"
          ],
          "name": "stdout"
        }
      ]
    },
    {
      "cell_type": "code",
      "metadata": {
        "id": "KbJXg5fH8Ai1",
        "colab_type": "code",
        "colab": {
          "base_uri": "https://localhost:8080/",
          "height": 547
        },
        "outputId": "4a3d6d30-1d2b-4dbc-b2c9-b840c0aeb240"
      },
      "source": [
        "NUM_CLASSES = 1\n",
        "\n",
        "vgg16 = Sequential()\n",
        "vgg16.add(vgg)\n",
        "vgg16.add(layers.Dropout(0.3))\n",
        "vgg16.add(layers.Flatten())\n",
        "vgg16.add(layers.Dropout(0.5))\n",
        "vgg16.add(layers.Dense(NUM_CLASSES, activation='sigmoid'))\n",
        "\n",
        "vgg16.layers[0].trainable = False\n",
        "\n",
        "vgg16.compile(loss='binary_crossentropy',\n",
        "              optimizer=optimizers.RMSprop(lr=1e-4),\n",
        "              metrics=['accuracy'])\n",
        "\n",
        "\n",
        "adam = Adam(lr=0.0003, beta_1=0.9, beta_2=0.999, epsilon=1e-08, decay=0.0)\n",
        "\n",
        "vgg16.compile(loss='binary_crossentropy',\n",
        "                  optimizer=adam,\n",
        "                  metrics=['accuracy'])\n",
        "vgg16.summary()\n"
      ],
      "execution_count": 24,
      "outputs": [
        {
          "output_type": "stream",
          "text": [
            "WARNING:tensorflow:From /usr/local/lib/python3.6/dist-packages/keras/backend/tensorflow_backend.py:148: The name tf.placeholder_with_default is deprecated. Please use tf.compat.v1.placeholder_with_default instead.\n",
            "\n",
            "WARNING:tensorflow:From /usr/local/lib/python3.6/dist-packages/keras/backend/tensorflow_backend.py:3733: calling dropout (from tensorflow.python.ops.nn_ops) with keep_prob is deprecated and will be removed in a future version.\n",
            "Instructions for updating:\n",
            "Please use `rate` instead of `keep_prob`. Rate should be set to `rate = 1 - keep_prob`.\n",
            "WARNING:tensorflow:From /usr/local/lib/python3.6/dist-packages/keras/optimizers.py:793: The name tf.train.Optimizer is deprecated. Please use tf.compat.v1.train.Optimizer instead.\n",
            "\n",
            "WARNING:tensorflow:From /usr/local/lib/python3.6/dist-packages/keras/backend/tensorflow_backend.py:3657: The name tf.log is deprecated. Please use tf.math.log instead.\n",
            "\n",
            "WARNING:tensorflow:From /usr/local/lib/python3.6/dist-packages/tensorflow_core/python/ops/nn_impl.py:183: where (from tensorflow.python.ops.array_ops) is deprecated and will be removed in a future version.\n",
            "Instructions for updating:\n",
            "Use tf.where in 2.0, which has the same broadcast rule as np.where\n",
            "Model: \"sequential_1\"\n",
            "_________________________________________________________________\n",
            "Layer (type)                 Output Shape              Param #   \n",
            "=================================================================\n",
            "vgg16 (Model)                (None, 7, 7, 512)         14714688  \n",
            "_________________________________________________________________\n",
            "dropout_1 (Dropout)          (None, 7, 7, 512)         0         \n",
            "_________________________________________________________________\n",
            "flatten_1 (Flatten)          (None, 25088)             0         \n",
            "_________________________________________________________________\n",
            "dropout_2 (Dropout)          (None, 25088)             0         \n",
            "_________________________________________________________________\n",
            "dense_1 (Dense)              (None, 1)                 25089     \n",
            "=================================================================\n",
            "Total params: 14,739,777\n",
            "Trainable params: 25,089\n",
            "Non-trainable params: 14,714,688\n",
            "_________________________________________________________________\n"
          ],
          "name": "stdout"
        }
      ]
    },
    {
      "cell_type": "code",
      "metadata": {
        "id": "0kyrDA5Z8Jl7",
        "colab_type": "code",
        "colab": {
          "base_uri": "https://localhost:8080/",
          "height": 1000
        },
        "outputId": "b0437997-e1df-4bb2-b80e-31c515aed773"
      },
      "source": [
        "import time\n",
        "\n",
        "start = time.time()\n",
        "\n",
        "vgg16_history = vgg16.fit_generator(\n",
        "    train_generator,\n",
        "    steps_per_epoch=50,\n",
        "    epochs=120,\n",
        "    validation_data=validation_generator,\n",
        "    validation_steps=30,\n",
        ")\n",
        "\n",
        "\n",
        "end = time.time()\n",
        "print(end - start)"
      ],
      "execution_count": 25,
      "outputs": [
        {
          "output_type": "stream",
          "text": [
            "WARNING:tensorflow:From /usr/local/lib/python3.6/dist-packages/keras/backend/tensorflow_backend.py:1033: The name tf.assign_add is deprecated. Please use tf.compat.v1.assign_add instead.\n",
            "\n",
            "WARNING:tensorflow:From /usr/local/lib/python3.6/dist-packages/keras/backend/tensorflow_backend.py:1020: The name tf.assign is deprecated. Please use tf.compat.v1.assign instead.\n",
            "\n",
            "Epoch 1/120\n",
            "50/50 [==============================] - 41s 829ms/step - loss: 3.9954 - acc: 0.6350 - val_loss: 1.1595 - val_acc: 0.8220\n",
            "Epoch 2/120\n",
            "50/50 [==============================] - 29s 574ms/step - loss: 2.3354 - acc: 0.7851 - val_loss: 0.6056 - val_acc: 0.8614\n",
            "Epoch 3/120\n",
            "50/50 [==============================] - 29s 582ms/step - loss: 1.9757 - acc: 0.8059 - val_loss: 0.2842 - val_acc: 0.9372\n",
            "Epoch 4/120\n",
            "50/50 [==============================] - 29s 589ms/step - loss: 1.5742 - acc: 0.8312 - val_loss: 0.2802 - val_acc: 0.9620\n",
            "Epoch 5/120\n",
            "50/50 [==============================] - 30s 597ms/step - loss: 1.2128 - acc: 0.8778 - val_loss: 0.8291 - val_acc: 0.8613\n",
            "Epoch 6/120\n",
            "50/50 [==============================] - 31s 617ms/step - loss: 1.3116 - acc: 0.8448 - val_loss: 1.1301 - val_acc: 0.8804\n",
            "Epoch 7/120\n",
            "50/50 [==============================] - 30s 606ms/step - loss: 1.0864 - acc: 0.8750 - val_loss: 0.4132 - val_acc: 0.9372\n",
            "Epoch 8/120\n",
            "50/50 [==============================] - 29s 585ms/step - loss: 0.9496 - acc: 0.9072 - val_loss: 0.5909 - val_acc: 0.9402\n",
            "Epoch 9/120\n",
            "50/50 [==============================] - 29s 585ms/step - loss: 1.2969 - acc: 0.8692 - val_loss: 0.2210 - val_acc: 0.9607\n",
            "Epoch 10/120\n",
            "50/50 [==============================] - 30s 596ms/step - loss: 1.1525 - acc: 0.8977 - val_loss: 0.7329 - val_acc: 0.9402\n",
            "Epoch 11/120\n",
            "50/50 [==============================] - 30s 594ms/step - loss: 1.1563 - acc: 0.8970 - val_loss: 0.8701 - val_acc: 0.9398\n",
            "Epoch 12/120\n",
            "50/50 [==============================] - 30s 596ms/step - loss: 0.8076 - acc: 0.9185 - val_loss: 0.5286 - val_acc: 0.9402\n",
            "Epoch 13/120\n",
            "50/50 [==============================] - 29s 584ms/step - loss: 0.9523 - acc: 0.8754 - val_loss: 0.5080 - val_acc: 0.9188\n",
            "Epoch 14/120\n",
            "50/50 [==============================] - 30s 604ms/step - loss: 0.9117 - acc: 0.9120 - val_loss: 0.2158 - val_acc: 0.9402\n",
            "Epoch 15/120\n",
            "50/50 [==============================] - 28s 568ms/step - loss: 1.3428 - acc: 0.8862 - val_loss: 0.4369 - val_acc: 0.9241\n",
            "Epoch 16/120\n",
            "50/50 [==============================] - 28s 566ms/step - loss: 0.7172 - acc: 0.9329 - val_loss: 0.5447 - val_acc: 0.9375\n",
            "Epoch 17/120\n",
            "50/50 [==============================] - 30s 594ms/step - loss: 0.6426 - acc: 0.9335 - val_loss: 0.9945 - val_acc: 0.9188\n",
            "Epoch 18/120\n",
            "50/50 [==============================] - 29s 587ms/step - loss: 1.0253 - acc: 0.9058 - val_loss: 0.7326 - val_acc: 0.9402\n",
            "Epoch 19/120\n",
            "50/50 [==============================] - 31s 610ms/step - loss: 0.9527 - acc: 0.9096 - val_loss: 0.5613 - val_acc: 0.9398\n",
            "Epoch 20/120\n",
            "50/50 [==============================] - 30s 591ms/step - loss: 0.7104 - acc: 0.9151 - val_loss: 0.8594 - val_acc: 0.9402\n",
            "Epoch 21/120\n",
            "50/50 [==============================] - 31s 616ms/step - loss: 0.6759 - acc: 0.9367 - val_loss: 0.2755 - val_acc: 0.9607\n",
            "Epoch 22/120\n",
            "50/50 [==============================] - 29s 574ms/step - loss: 0.6400 - acc: 0.9233 - val_loss: 0.7794 - val_acc: 0.9375\n",
            "Epoch 23/120\n",
            "50/50 [==============================] - 29s 582ms/step - loss: 0.5983 - acc: 0.9398 - val_loss: 0.4043 - val_acc: 0.9607\n",
            "Epoch 24/120\n",
            "50/50 [==============================] - 29s 587ms/step - loss: 1.2676 - acc: 0.9006 - val_loss: 0.4827 - val_acc: 0.9402\n",
            "Epoch 25/120\n",
            "50/50 [==============================] - 30s 593ms/step - loss: 0.6976 - acc: 0.9409 - val_loss: 0.7260 - val_acc: 0.9398\n",
            "Epoch 26/120\n",
            "50/50 [==============================] - 29s 581ms/step - loss: 0.4985 - acc: 0.9523 - val_loss: 0.7869 - val_acc: 0.9402\n",
            "Epoch 27/120\n",
            "50/50 [==============================] - 29s 590ms/step - loss: 0.4612 - acc: 0.9555 - val_loss: 0.5588 - val_acc: 0.9372\n",
            "Epoch 28/120\n",
            "50/50 [==============================] - 30s 605ms/step - loss: 0.5420 - acc: 0.9277 - val_loss: 0.6437 - val_acc: 0.9429\n",
            "Epoch 29/120\n",
            "50/50 [==============================] - 29s 576ms/step - loss: 0.4346 - acc: 0.9536 - val_loss: 0.8740 - val_acc: 0.9398\n",
            "Epoch 30/120\n",
            "50/50 [==============================] - 29s 573ms/step - loss: 0.4475 - acc: 0.9536 - val_loss: 0.2767 - val_acc: 0.9592\n",
            "Epoch 31/120\n",
            "50/50 [==============================] - 29s 578ms/step - loss: 0.4357 - acc: 0.9567 - val_loss: 0.2693 - val_acc: 0.9398\n",
            "Epoch 32/120\n",
            "50/50 [==============================] - 30s 598ms/step - loss: 0.3840 - acc: 0.9599 - val_loss: 0.5331 - val_acc: 0.9402\n",
            "Epoch 33/120\n",
            "50/50 [==============================] - 29s 589ms/step - loss: 0.4119 - acc: 0.9573 - val_loss: 0.9513 - val_acc: 0.9372\n",
            "Epoch 34/120\n",
            "50/50 [==============================] - 30s 596ms/step - loss: 0.4566 - acc: 0.9549 - val_loss: 0.4695 - val_acc: 0.9429\n",
            "Epoch 35/120\n",
            "50/50 [==============================] - 30s 607ms/step - loss: 0.7258 - acc: 0.9346 - val_loss: 0.5737 - val_acc: 0.9398\n",
            "Epoch 36/120\n",
            "50/50 [==============================] - 29s 579ms/step - loss: 0.4088 - acc: 0.9605 - val_loss: 0.5939 - val_acc: 0.9402\n",
            "Epoch 37/120\n",
            "50/50 [==============================] - 29s 579ms/step - loss: 0.3918 - acc: 0.9567 - val_loss: 0.5002 - val_acc: 0.9241\n",
            "Epoch 38/120\n",
            "50/50 [==============================] - 29s 580ms/step - loss: 0.3509 - acc: 0.9605 - val_loss: 0.2395 - val_acc: 0.9565\n",
            "Epoch 39/120\n",
            "50/50 [==============================] - 30s 594ms/step - loss: 0.3711 - acc: 0.9605 - val_loss: 0.6327 - val_acc: 0.9372\n",
            "Epoch 40/120\n",
            "50/50 [==============================] - 29s 586ms/step - loss: 0.5067 - acc: 0.9548 - val_loss: 1.0094 - val_acc: 0.9239\n",
            "Epoch 41/120\n",
            "50/50 [==============================] - 30s 603ms/step - loss: 0.4560 - acc: 0.9530 - val_loss: 0.3880 - val_acc: 0.9424\n",
            "Epoch 42/120\n",
            "50/50 [==============================] - 31s 615ms/step - loss: 0.4935 - acc: 0.9327 - val_loss: 0.2838 - val_acc: 0.9810\n",
            "Epoch 43/120\n",
            "50/50 [==============================] - 29s 590ms/step - loss: 0.7161 - acc: 0.9403 - val_loss: 0.2956 - val_acc: 0.9607\n",
            "Epoch 44/120\n",
            "50/50 [==============================] - 30s 594ms/step - loss: 0.9149 - acc: 0.9125 - val_loss: 0.6460 - val_acc: 0.9375\n",
            "Epoch 45/120\n",
            "50/50 [==============================] - 30s 600ms/step - loss: 0.6406 - acc: 0.9398 - val_loss: 0.1785 - val_acc: 0.9817\n",
            "Epoch 46/120\n",
            "50/50 [==============================] - 30s 599ms/step - loss: 0.3517 - acc: 0.9624 - val_loss: 0.3058 - val_acc: 0.9592\n",
            "Epoch 47/120\n",
            "50/50 [==============================] - 30s 602ms/step - loss: 0.4768 - acc: 0.9586 - val_loss: 0.3386 - val_acc: 0.9450\n",
            "Epoch 48/120\n",
            "50/50 [==============================] - 30s 606ms/step - loss: 0.3126 - acc: 0.9668 - val_loss: 0.2974 - val_acc: 0.9565\n",
            "Epoch 49/120\n",
            "50/50 [==============================] - 31s 614ms/step - loss: 0.3388 - acc: 0.9611 - val_loss: 0.2098 - val_acc: 0.9372\n",
            "Epoch 50/120\n",
            "50/50 [==============================] - 29s 587ms/step - loss: 0.3493 - acc: 0.9643 - val_loss: 0.1627 - val_acc: 0.9429\n",
            "Epoch 51/120\n",
            "50/50 [==============================] - 29s 590ms/step - loss: 0.3846 - acc: 0.9630 - val_loss: 0.4311 - val_acc: 0.9581\n",
            "Epoch 52/120\n",
            "50/50 [==============================] - 29s 587ms/step - loss: 0.3558 - acc: 0.9642 - val_loss: 0.2947 - val_acc: 0.9620\n",
            "Epoch 53/120\n",
            "50/50 [==============================] - 29s 588ms/step - loss: 0.3031 - acc: 0.9661 - val_loss: 0.3752 - val_acc: 0.9450\n",
            "Epoch 54/120\n",
            "50/50 [==============================] - 30s 595ms/step - loss: 0.5533 - acc: 0.9252 - val_loss: 0.2582 - val_acc: 0.9565\n",
            "Epoch 55/120\n",
            "50/50 [==============================] - 30s 610ms/step - loss: 0.2545 - acc: 0.9731 - val_loss: 0.2118 - val_acc: 0.9607\n",
            "Epoch 56/120\n",
            "50/50 [==============================] - 30s 605ms/step - loss: 0.3486 - acc: 0.9686 - val_loss: 0.1414 - val_acc: 0.9783\n",
            "Epoch 57/120\n",
            "50/50 [==============================] - 29s 585ms/step - loss: 0.3487 - acc: 0.9661 - val_loss: 0.1274 - val_acc: 0.9791\n",
            "Epoch 58/120\n",
            "50/50 [==============================] - 29s 582ms/step - loss: 0.5435 - acc: 0.9465 - val_loss: 0.3898 - val_acc: 0.9402\n",
            "Epoch 59/120\n",
            "50/50 [==============================] - 30s 592ms/step - loss: 0.3537 - acc: 0.9699 - val_loss: 0.1064 - val_acc: 0.9607\n",
            "Epoch 60/120\n",
            "50/50 [==============================] - 29s 588ms/step - loss: 0.2313 - acc: 0.9743 - val_loss: 0.0322 - val_acc: 0.9810\n",
            "Epoch 61/120\n",
            "50/50 [==============================] - 30s 595ms/step - loss: 0.3691 - acc: 0.9630 - val_loss: 0.0894 - val_acc: 0.9791\n",
            "Epoch 62/120\n",
            "50/50 [==============================] - 30s 604ms/step - loss: 0.2944 - acc: 0.9699 - val_loss: 0.0902 - val_acc: 0.9810\n",
            "Epoch 63/120\n",
            "50/50 [==============================] - 31s 625ms/step - loss: 0.3296 - acc: 0.9724 - val_loss: 0.1332 - val_acc: 0.9791\n",
            "Epoch 64/120\n",
            "50/50 [==============================] - 29s 583ms/step - loss: 0.3550 - acc: 0.9655 - val_loss: 0.1327 - val_acc: 0.9810\n",
            "Epoch 65/120\n",
            "50/50 [==============================] - 30s 598ms/step - loss: 0.2352 - acc: 0.9781 - val_loss: 0.1928 - val_acc: 0.9791\n",
            "Epoch 66/120\n",
            "50/50 [==============================] - 29s 586ms/step - loss: 0.3235 - acc: 0.9705 - val_loss: 0.0483 - val_acc: 0.9810\n",
            "Epoch 67/120\n",
            "50/50 [==============================] - 30s 600ms/step - loss: 0.5665 - acc: 0.9559 - val_loss: 0.0335 - val_acc: 0.9817\n",
            "Epoch 68/120\n",
            "50/50 [==============================] - 30s 596ms/step - loss: 0.2952 - acc: 0.9705 - val_loss: 0.1626 - val_acc: 0.9783\n",
            "Epoch 69/120\n",
            "50/50 [==============================] - 30s 604ms/step - loss: 0.2907 - acc: 0.9743 - val_loss: 0.1546 - val_acc: 0.9791\n",
            "Epoch 70/120\n",
            "50/50 [==============================] - 31s 612ms/step - loss: 0.3360 - acc: 0.9540 - val_loss: 1.9147 - val_acc: 0.8641\n",
            "Epoch 71/120\n",
            "50/50 [==============================] - 30s 593ms/step - loss: 0.4610 - acc: 0.9599 - val_loss: 0.7152 - val_acc: 0.9372\n",
            "Epoch 72/120\n",
            "50/50 [==============================] - 29s 577ms/step - loss: 0.2719 - acc: 0.9718 - val_loss: 0.6677 - val_acc: 0.9429\n",
            "Epoch 73/120\n",
            "50/50 [==============================] - 30s 594ms/step - loss: 0.3201 - acc: 0.9693 - val_loss: 0.8068 - val_acc: 0.9215\n",
            "Epoch 74/120\n",
            "50/50 [==============================] - 29s 572ms/step - loss: 0.2499 - acc: 0.9737 - val_loss: 0.6608 - val_acc: 0.9592\n",
            "Epoch 75/120\n",
            "50/50 [==============================] - 30s 599ms/step - loss: 0.3161 - acc: 0.9643 - val_loss: 0.6335 - val_acc: 0.9607\n",
            "Epoch 76/120\n",
            "50/50 [==============================] - 30s 598ms/step - loss: 0.2996 - acc: 0.9718 - val_loss: 0.5092 - val_acc: 0.9592\n",
            "Epoch 77/120\n",
            "50/50 [==============================] - 31s 614ms/step - loss: 0.3231 - acc: 0.9674 - val_loss: 0.7115 - val_acc: 0.9372\n",
            "Epoch 78/120\n",
            "50/50 [==============================] - 28s 569ms/step - loss: 0.3363 - acc: 0.9686 - val_loss: 0.4305 - val_acc: 0.9592\n",
            "Epoch 79/120\n",
            "50/50 [==============================] - 29s 587ms/step - loss: 0.3474 - acc: 0.9547 - val_loss: 0.7727 - val_acc: 0.9398\n",
            "Epoch 80/120\n",
            "50/50 [==============================] - 30s 593ms/step - loss: 0.5953 - acc: 0.9449 - val_loss: 0.6387 - val_acc: 0.9185\n",
            "Epoch 81/120\n",
            "50/50 [==============================] - 30s 597ms/step - loss: 0.3467 - acc: 0.9668 - val_loss: 0.7594 - val_acc: 0.9424\n",
            "Epoch 82/120\n",
            "50/50 [==============================] - 29s 587ms/step - loss: 0.2858 - acc: 0.9780 - val_loss: 0.6168 - val_acc: 0.9158\n",
            "Epoch 83/120\n",
            "50/50 [==============================] - 30s 596ms/step - loss: 0.3446 - acc: 0.9712 - val_loss: 0.6201 - val_acc: 0.9607\n",
            "Epoch 84/120\n",
            "50/50 [==============================] - 30s 607ms/step - loss: 0.4434 - acc: 0.9503 - val_loss: 1.7026 - val_acc: 0.8016\n",
            "Epoch 85/120\n",
            "50/50 [==============================] - 29s 576ms/step - loss: 0.6661 - acc: 0.9396 - val_loss: 0.6989 - val_acc: 0.9372\n",
            "Epoch 86/120\n",
            "50/50 [==============================] - 29s 580ms/step - loss: 0.3511 - acc: 0.9674 - val_loss: 0.6328 - val_acc: 0.9402\n",
            "Epoch 87/120\n",
            "50/50 [==============================] - 30s 596ms/step - loss: 0.3314 - acc: 0.9699 - val_loss: 0.7160 - val_acc: 0.9372\n",
            "Epoch 88/120\n",
            "50/50 [==============================] - 29s 578ms/step - loss: 0.6916 - acc: 0.9237 - val_loss: 0.6134 - val_acc: 0.9620\n",
            "Epoch 89/120\n",
            "50/50 [==============================] - 30s 599ms/step - loss: 0.3369 - acc: 0.9674 - val_loss: 0.7084 - val_acc: 0.9398\n",
            "Epoch 90/120\n",
            "50/50 [==============================] - 30s 596ms/step - loss: 0.3834 - acc: 0.9680 - val_loss: 0.6846 - val_acc: 0.9402\n",
            "Epoch 91/120\n",
            "50/50 [==============================] - 30s 609ms/step - loss: 0.3176 - acc: 0.9705 - val_loss: 1.0846 - val_acc: 0.9188\n",
            "Epoch 92/120\n",
            "50/50 [==============================] - 29s 575ms/step - loss: 0.2954 - acc: 0.9756 - val_loss: 0.8675 - val_acc: 0.9402\n",
            "Epoch 93/120\n",
            "50/50 [==============================] - 29s 580ms/step - loss: 0.6630 - acc: 0.9509 - val_loss: 0.5830 - val_acc: 0.9607\n",
            "Epoch 94/120\n",
            "50/50 [==============================] - 29s 586ms/step - loss: 0.4139 - acc: 0.9472 - val_loss: 0.4665 - val_acc: 0.9592\n",
            "Epoch 95/120\n",
            "50/50 [==============================] - 29s 580ms/step - loss: 0.6527 - acc: 0.9528 - val_loss: 0.6897 - val_acc: 0.9398\n",
            "Epoch 96/120\n",
            "50/50 [==============================] - 29s 572ms/step - loss: 0.6498 - acc: 0.9528 - val_loss: 0.6647 - val_acc: 0.9402\n",
            "Epoch 97/120\n",
            "50/50 [==============================] - 30s 592ms/step - loss: 0.2298 - acc: 0.9781 - val_loss: 0.6536 - val_acc: 0.9372\n",
            "Epoch 98/120\n",
            "50/50 [==============================] - 30s 598ms/step - loss: 0.3422 - acc: 0.9687 - val_loss: 0.4304 - val_acc: 0.9620\n",
            "Epoch 99/120\n",
            "50/50 [==============================] - 29s 570ms/step - loss: 0.3893 - acc: 0.9668 - val_loss: 0.9055 - val_acc: 0.9398\n",
            "Epoch 100/120\n",
            "50/50 [==============================] - 28s 566ms/step - loss: 0.3443 - acc: 0.9711 - val_loss: 0.9069 - val_acc: 0.9402\n",
            "Epoch 101/120\n",
            "50/50 [==============================] - 29s 582ms/step - loss: 0.2493 - acc: 0.9768 - val_loss: 0.9578 - val_acc: 0.9372\n",
            "Epoch 102/120\n",
            "50/50 [==============================] - 29s 587ms/step - loss: 0.2934 - acc: 0.9712 - val_loss: 0.6869 - val_acc: 0.9429\n",
            "Epoch 103/120\n",
            "50/50 [==============================] - 30s 593ms/step - loss: 0.2019 - acc: 0.9737 - val_loss: 0.6933 - val_acc: 0.9372\n",
            "Epoch 104/120\n",
            "50/50 [==============================] - 30s 594ms/step - loss: 0.4295 - acc: 0.9522 - val_loss: 1.0052 - val_acc: 0.8859\n",
            "Epoch 105/120\n",
            "50/50 [==============================] - 31s 611ms/step - loss: 0.3417 - acc: 0.9705 - val_loss: 0.9214 - val_acc: 0.9424\n",
            "Epoch 106/120\n",
            "50/50 [==============================] - 29s 571ms/step - loss: 0.5632 - acc: 0.9446 - val_loss: 0.6581 - val_acc: 0.9592\n",
            "Epoch 107/120\n",
            "50/50 [==============================] - 29s 590ms/step - loss: 0.2975 - acc: 0.9749 - val_loss: 0.9043 - val_acc: 0.9398\n",
            "Epoch 108/120\n",
            "50/50 [==============================] - 29s 587ms/step - loss: 0.2946 - acc: 0.9699 - val_loss: 0.7842 - val_acc: 0.9402\n",
            "Epoch 109/120\n",
            "50/50 [==============================] - 30s 591ms/step - loss: 0.3119 - acc: 0.9553 - val_loss: 0.9019 - val_acc: 0.9215\n",
            "Epoch 110/120\n",
            "50/50 [==============================] - 30s 593ms/step - loss: 0.4832 - acc: 0.9567 - val_loss: 0.6123 - val_acc: 0.9592\n",
            "Epoch 111/120\n",
            "50/50 [==============================] - 30s 594ms/step - loss: 0.2799 - acc: 0.9749 - val_loss: 0.7944 - val_acc: 0.9398\n",
            "Epoch 112/120\n",
            "50/50 [==============================] - 30s 601ms/step - loss: 0.2646 - acc: 0.9705 - val_loss: 0.8712 - val_acc: 0.9402\n",
            "Epoch 113/120\n",
            "50/50 [==============================] - 28s 568ms/step - loss: 0.2044 - acc: 0.9768 - val_loss: 0.8754 - val_acc: 0.9215\n",
            "Epoch 114/120\n",
            "50/50 [==============================] - 29s 583ms/step - loss: 0.2929 - acc: 0.9705 - val_loss: 0.8104 - val_acc: 0.9375\n",
            "Epoch 115/120\n",
            "50/50 [==============================] - 29s 582ms/step - loss: 0.2830 - acc: 0.9730 - val_loss: 0.7891 - val_acc: 0.9188\n",
            "Epoch 116/120\n",
            "50/50 [==============================] - 29s 587ms/step - loss: 0.3725 - acc: 0.9643 - val_loss: 0.6536 - val_acc: 0.9592\n",
            "Epoch 117/120\n",
            "50/50 [==============================] - 29s 581ms/step - loss: 0.5162 - acc: 0.9237 - val_loss: 0.4629 - val_acc: 0.9607\n",
            "Epoch 118/120\n",
            "50/50 [==============================] - 29s 586ms/step - loss: 0.2500 - acc: 0.9806 - val_loss: 0.6003 - val_acc: 0.9592\n",
            "Epoch 119/120\n",
            "50/50 [==============================] - 30s 598ms/step - loss: 0.3415 - acc: 0.9712 - val_loss: 0.4496 - val_acc: 0.9581\n",
            "Epoch 120/120\n",
            "50/50 [==============================] - 28s 553ms/step - loss: 0.2813 - acc: 0.9743 - val_loss: 0.5136 - val_acc: 0.9620\n",
            "3556.612113237381\n"
          ],
          "name": "stdout"
        }
      ]
    }
  ]
}